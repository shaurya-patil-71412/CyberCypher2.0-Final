{
 "cells": [
  {
   "cell_type": "code",
   "execution_count": 24,
   "id": "ce95db13",
   "metadata": {},
   "outputs": [],
   "source": [
    "import requests\n",
    "import geocoder\n",
    "from geopy.geocoders import Nominatim\n",
    "import json\n",
    "import csv\n",
    "import pandas as pd\n",
    "import pyowm\n",
    "\n",
    "\n",
    "g = geocoder.ip('me')\n",
    "geolocator = Nominatim(user_agent=\"goapiExercises\")\n",
    "latitude = str(g.latlng[0])\n",
    "longitude = str(g.latlng[1])\n",
    "\n",
    "location = geolocator.reverse(latitude+\",\"+longitude)\n",
    "\n",
    "address = location.raw['address']\n",
    "user_city = address.get('city', '')\n",
    "\n",
    "city = user_city\n",
    "params = {\n",
    "  'access_key': 'a2ae813ed7027d84c369615631c0abc6',\n",
    "  'query': city\n",
    "}\n",
    "\n",
    "api_result = requests.get('http://api.weatherstack.com/current', params)\n",
    "\n",
    "api_response = api_result.json()\n",
    "\n",
    "owm = pyowm.OWM('980262062aebe3066c07e4eb17ebff06')\n",
    "mgr = owm.agro_manager()\n",
    "\n",
    "user_polygon = mgr.get_polygon('63e28f2d640955342c686935')\n",
    "soil = mgr.soil_data(user_polygon)\n",
    "\n",
    "i_temperature = api_response['current']['temperature']\n",
    "i_precipitation = api_response['current']['precip']\n",
    "i_humidity = api_response['current']['humidity']\n",
    "i_soil_temp = soil.surface_temp(unit='kelvin')-273\n",
    "i_soil_ten_cm_temp = soil.ten_cm_temp(unit='kelvin')-273\n",
    "i_soil_moist = soil.moisture\n",
    "\n",
    "flag = 0\n",
    "\n",
    "#Hard-coded values for plants in Mumbai\n",
    "p_temp = 23\n",
    "p_temp_min = 20\n",
    "p_temp_max = 35\n",
    "p_precip = 0\n",
    "p_humidity = 75\n",
    "p_soil_temp = 30\n",
    "p_soil_ten_cm_temp = 20\n",
    "p_soil_moist = 0.15\n",
    "p_id = \"Fern\"\n",
    "\n",
    "# Obtained from API\n",
    "mumbai_plants = [\"Aloe Vera\",\n",
    "\"Borage\",\n",
    "\"Tomatoes\",\n",
    "\"Banyan\",\n",
    "\"Peepal\"]\n",
    "\n",
    "if p_temp >= i_temperature:\n",
    "    if p_temp_min <= i_temperature+10 and p_temp_max >= i_temperature-10:\n",
    "        if p_precip <= i_precipitation:\n",
    "            if p_humidity>i_humidity-10 or p_humidity<i_humidity+10:\n",
    "                if p_soil_temp>i_soil_temp-10 or p_soil_temp<i_soil_temp+10:\n",
    "                    if p_soil_ten_cm_temp>i_soil_ten_cm_temp-5 or p_soil_ten_cm_temp<i_soil_ten_cm_temp+5:\n",
    "                        if p_soil_moist>i_soil_moist-5 or p_soil_moist<i_soil_moist+5:\n",
    "                            flag = 1\n",
    "else:\n",
    "    flag = 0\n",
    "\n",
    "if flag==1:\n",
    "    mumbai_plants.append(p_id)\n",
    "else:\n",
    "    print(\"Plant not valid\")"
   ]
  },
  {
   "cell_type": "code",
   "execution_count": 25,
   "id": "37e1135c",
   "metadata": {},
   "outputs": [
    {
     "data": {
      "text/plain": [
       "['Aloe Vera', 'Borage', 'Tomatoes', 'Banyan', 'Peepal', 'Fern']"
      ]
     },
     "execution_count": 25,
     "metadata": {},
     "output_type": "execute_result"
    }
   ],
   "source": [
    "mumbai_plants"
   ]
  },
  {
   "cell_type": "code",
   "execution_count": null,
   "id": "4b41c8c4",
   "metadata": {},
   "outputs": [],
   "source": []
  }
 ],
 "metadata": {
  "kernelspec": {
   "display_name": "Python 3 (ipykernel)",
   "language": "python",
   "name": "python3"
  },
  "language_info": {
   "codemirror_mode": {
    "name": "ipython",
    "version": 3
   },
   "file_extension": ".py",
   "mimetype": "text/x-python",
   "name": "python",
   "nbconvert_exporter": "python",
   "pygments_lexer": "ipython3",
   "version": "3.8.0"
  }
 },
 "nbformat": 4,
 "nbformat_minor": 5
}
